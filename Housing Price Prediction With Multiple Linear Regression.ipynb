{
 "cells": [
  {
   "cell_type": "markdown",
   "metadata": {},
   "source": [
    "### Housing Price Prediction With Multiple Linear Regression\n",
    "\n",
    "In this end-to-end project, I will provide an overview of the multiple linear regression model fitting process, from gathering the data and selecting independent variables with high predictive powers to training and testing the model and calculating the Mean Absolute Error.\n",
    "\n",
    "A detailed walkthrough can be found on my website at: [kostya.io](https://kostya.io/portfolio/housing-price-prediction-with-multiple-linear-regression)"
   ]
  },
  {
   "cell_type": "code",
   "execution_count": 1,
   "metadata": {},
   "outputs": [],
   "source": [
    "# Load packages\n",
    "\n",
    "import numpy as np\n",
    "import seaborn as sns\n",
    "import matplotlib.pyplot as plt\n",
    "import pandas as pd\n",
    "import requests\n",
    "from statistics import mean\n",
    "from matplotlib.cbook import boxplot_stats\n",
    "import warnings\n",
    "from sklearn import linear_model\n",
    "import statsmodels.api as sm\n",
    "from sklearn.linear_model import LinearRegression\n",
    "from sklearn.model_selection import train_test_split\n",
    "warnings.filterwarnings(\"ignore\")"
   ]
  },
  {
   "cell_type": "code",
   "execution_count": 2,
   "metadata": {},
   "outputs": [],
   "source": [
    "# Load the transaction dataset\n",
    "df = pd.read_csv('Santa Clara County SFR Transaction 30 Days.csv')"
   ]
  },
  {
   "cell_type": "code",
   "execution_count": 3,
   "metadata": {},
   "outputs": [
    {
     "data": {
      "text/plain": [
       "['S',\n",
       " 'MLS #',\n",
       " 'Street Address',\n",
       " 'Price',\n",
       " 'DOM',\n",
       " 'Beds Total',\n",
       " 'Sq Ft Total',\n",
       " 'Bths',\n",
       " 'Lot Size',\n",
       " 'Postal City',\n",
       " 'Property Sub Type',\n",
       " 'Age']"
      ]
     },
     "execution_count": 3,
     "metadata": {},
     "output_type": "execute_result"
    }
   ],
   "source": [
    "list(df)"
   ]
  },
  {
   "cell_type": "code",
   "execution_count": 4,
   "metadata": {},
   "outputs": [],
   "source": [
    " # Drop columns that I am definitely not going to use (because they don't contain enough useful information)\n",
    "df = df.drop(['S',\n",
    "              'MLS #',\n",
    "              'DOM',\n",
    "              'Property Sub Type'], axis=1)"
   ]
  },
  {
   "cell_type": "code",
   "execution_count": 5,
   "metadata": {},
   "outputs": [
    {
     "name": "stdout",
     "output_type": "stream",
     "text": [
      "<class 'pandas.core.frame.DataFrame'>\n",
      "RangeIndex: 872 entries, 0 to 871\n",
      "Data columns (total 8 columns):\n",
      " #   Column          Non-Null Count  Dtype \n",
      "---  ------          --------------  ----- \n",
      " 0   Street Address  872 non-null    object\n",
      " 1   Price           872 non-null    object\n",
      " 2   Beds Total      872 non-null    int64 \n",
      " 3   Sq Ft Total     872 non-null    object\n",
      " 4   Bths            872 non-null    object\n",
      " 5   Lot Size        872 non-null    object\n",
      " 6   Postal City     871 non-null    object\n",
      " 7   Age             872 non-null    int64 \n",
      "dtypes: int64(2), object(6)\n",
      "memory usage: 54.6+ KB\n"
     ]
    }
   ],
   "source": [
    "df.info()"
   ]
  },
  {
   "cell_type": "code",
   "execution_count": 6,
   "metadata": {
    "scrolled": true
   },
   "outputs": [],
   "source": [
    "# Clean 'Lot Size' column\n",
    "acres = ' Acres'\n",
    "SqFt = ' Lot SqFt'\n",
    "\n",
    "for i in range(0, len(df['Lot Size'])):\n",
    "    if acres in df['Lot Size'][i]:\n",
    "        df['Lot Size'][i] = pd.to_numeric(df['Lot Size'][i].replace(acres, '')) * 43560\n",
    "        \n",
    "for j in range(0, len(df['Lot Size'])):\n",
    "    if isinstance(df['Lot Size'][j], str):\n",
    "        df['Lot Size'][j] = df['Lot Size'][j].replace(SqFt, '')\n",
    "        df['Lot Size'][j] = df['Lot Size'][j].replace(',', '')\n",
    "        \n",
    "df['Lot Size'] = pd.to_numeric(df['Lot Size'])"
   ]
  },
  {
   "cell_type": "code",
   "execution_count": 7,
   "metadata": {},
   "outputs": [],
   "source": [
    "# Clean 'Sq Ft Total' column\n",
    "    \n",
    "for i in range(0, len(df['Sq Ft Total'])):\n",
    "        df['Sq Ft Total'][i] = df['Sq Ft Total'][i].replace(',', '')\n",
    "        \n",
    "df['Sq Ft Total'] = pd.to_numeric(df['Sq Ft Total'])"
   ]
  },
  {
   "cell_type": "code",
   "execution_count": 8,
   "metadata": {},
   "outputs": [],
   "source": [
    "# Clean 'Price' column\n",
    "    \n",
    "for i in range(0, len(df['Price'])):\n",
    "        df['Price'][i] = df['Price'][i].replace(',', '')\n",
    "        df['Price'][i] = df['Price'][i].replace('$', '')\n",
    "df['Price'] = pd.to_numeric(df['Price'])"
   ]
  },
  {
   "cell_type": "code",
   "execution_count": 9,
   "metadata": {},
   "outputs": [],
   "source": [
    "# Create Full Bath & Half Bath columns\n",
    "\n",
    "df['Full Bath'] = 0\n",
    "df['Half Bath'] = 0\n",
    "\n",
    "for i in range(0,len(df)):\n",
    "    df['Full Bath'][i] = df['Bths'][i][:1]\n",
    "    df['Half Bath'][i] = df['Bths'][i][-1:] \n"
   ]
  },
  {
   "cell_type": "code",
   "execution_count": 10,
   "metadata": {
    "scrolled": true
   },
   "outputs": [
    {
     "name": "stdout",
     "output_type": "stream",
     "text": [
      "<class 'pandas.core.frame.DataFrame'>\n",
      "RangeIndex: 872 entries, 0 to 871\n",
      "Data columns (total 10 columns):\n",
      " #   Column          Non-Null Count  Dtype  \n",
      "---  ------          --------------  -----  \n",
      " 0   Street Address  872 non-null    object \n",
      " 1   Price           872 non-null    int64  \n",
      " 2   Beds Total      872 non-null    int64  \n",
      " 3   Sq Ft Total     872 non-null    int64  \n",
      " 4   Bths            872 non-null    object \n",
      " 5   Lot Size        872 non-null    float64\n",
      " 6   Postal City     871 non-null    object \n",
      " 7   Age             872 non-null    int64  \n",
      " 8   Full Bath       872 non-null    int64  \n",
      " 9   Half Bath       872 non-null    int64  \n",
      "dtypes: float64(1), int64(6), object(3)\n",
      "memory usage: 68.2+ KB\n"
     ]
    }
   ],
   "source": [
    "df.info()"
   ]
  },
  {
   "cell_type": "code",
   "execution_count": 11,
   "metadata": {},
   "outputs": [],
   "source": [
    "df = df.drop(['Bths'], axis=1)"
   ]
  },
  {
   "cell_type": "code",
   "execution_count": 12,
   "metadata": {},
   "outputs": [
    {
     "data": {
      "text/html": [
       "<div>\n",
       "<style scoped>\n",
       "    .dataframe tbody tr th:only-of-type {\n",
       "        vertical-align: middle;\n",
       "    }\n",
       "\n",
       "    .dataframe tbody tr th {\n",
       "        vertical-align: top;\n",
       "    }\n",
       "\n",
       "    .dataframe thead th {\n",
       "        text-align: right;\n",
       "    }\n",
       "</style>\n",
       "<table border=\"1\" class=\"dataframe\">\n",
       "  <thead>\n",
       "    <tr style=\"text-align: right;\">\n",
       "      <th></th>\n",
       "      <th>Street Address</th>\n",
       "      <th>Price</th>\n",
       "      <th>Beds Total</th>\n",
       "      <th>Sq Ft Total</th>\n",
       "      <th>Lot Size</th>\n",
       "      <th>Postal City</th>\n",
       "      <th>Age</th>\n",
       "      <th>Full Bath</th>\n",
       "      <th>Half Bath</th>\n",
       "    </tr>\n",
       "  </thead>\n",
       "  <tbody>\n",
       "    <tr>\n",
       "      <th>0</th>\n",
       "      <td>5891 Pontius Court</td>\n",
       "      <td>1600000</td>\n",
       "      <td>4</td>\n",
       "      <td>1348</td>\n",
       "      <td>6000.0</td>\n",
       "      <td>San Jose</td>\n",
       "      <td>51</td>\n",
       "      <td>2</td>\n",
       "      <td>0</td>\n",
       "    </tr>\n",
       "    <tr>\n",
       "      <th>1</th>\n",
       "      <td>19600 Caraway Place</td>\n",
       "      <td>1390000</td>\n",
       "      <td>4</td>\n",
       "      <td>2501</td>\n",
       "      <td>3717.0</td>\n",
       "      <td>Morgan Hill</td>\n",
       "      <td>6</td>\n",
       "      <td>2</td>\n",
       "      <td>1</td>\n",
       "    </tr>\n",
       "    <tr>\n",
       "      <th>2</th>\n",
       "      <td>1440 Mount Diablo Drive</td>\n",
       "      <td>985000</td>\n",
       "      <td>3</td>\n",
       "      <td>1000</td>\n",
       "      <td>5000.0</td>\n",
       "      <td>San Jose</td>\n",
       "      <td>64</td>\n",
       "      <td>2</td>\n",
       "      <td>0</td>\n",
       "    </tr>\n",
       "    <tr>\n",
       "      <th>3</th>\n",
       "      <td>555 N 10th Street</td>\n",
       "      <td>960000</td>\n",
       "      <td>3</td>\n",
       "      <td>1200</td>\n",
       "      <td>9520.0</td>\n",
       "      <td>San Jose</td>\n",
       "      <td>114</td>\n",
       "      <td>1</td>\n",
       "      <td>0</td>\n",
       "    </tr>\n",
       "    <tr>\n",
       "      <th>4</th>\n",
       "      <td>27729 Briones Court</td>\n",
       "      <td>9335000</td>\n",
       "      <td>5</td>\n",
       "      <td>4827</td>\n",
       "      <td>43560.0</td>\n",
       "      <td>Los Altos Hills</td>\n",
       "      <td>7</td>\n",
       "      <td>4</td>\n",
       "      <td>1</td>\n",
       "    </tr>\n",
       "  </tbody>\n",
       "</table>\n",
       "</div>"
      ],
      "text/plain": [
       "            Street Address    Price  Beds Total  Sq Ft Total  Lot Size  \\\n",
       "0       5891 Pontius Court  1600000           4         1348    6000.0   \n",
       "1      19600 Caraway Place  1390000           4         2501    3717.0   \n",
       "2  1440 Mount Diablo Drive   985000           3         1000    5000.0   \n",
       "3        555 N 10th Street   960000           3         1200    9520.0   \n",
       "4      27729 Briones Court  9335000           5         4827   43560.0   \n",
       "\n",
       "       Postal City  Age  Full Bath  Half Bath  \n",
       "0         San Jose   51          2          0  \n",
       "1      Morgan Hill    6          2          1  \n",
       "2         San Jose   64          2          0  \n",
       "3         San Jose  114          1          0  \n",
       "4  Los Altos Hills    7          4          1  "
      ]
     },
     "execution_count": 12,
     "metadata": {},
     "output_type": "execute_result"
    }
   ],
   "source": [
    "df.head()"
   ]
  },
  {
   "cell_type": "markdown",
   "metadata": {},
   "source": [
    "### Google Maps API: Geocoding\n",
    "\n",
    "Create and populate Latitude / Longitude columns and populate them with corresponding information for each property address"
   ]
  },
  {
   "cell_type": "code",
   "execution_count": null,
   "metadata": {},
   "outputs": [],
   "source": [
    "def google_geocode(geocode_location):\n",
    "    gmaps = googlemaps.Client(key='< ADD YOU API KEY >')\n",
    "    geocode_result = gmaps.geocode(geocode_location)\n",
    "    return geocode_result"
   ]
  },
  {
   "cell_type": "code",
   "execution_count": null,
   "metadata": {},
   "outputs": [],
   "source": [
    "df['State'] = 'CA'\n",
    "df['lat'], df['lon'] = 0.0, 0.0\n",
    "\n",
    "for i in range(0, len(df)):\n",
    "    geocode_location = \"{}, {}, {}\".format(df['Street Address'][i],df['Postal City'][i],df['State'][i])\n",
    "    geo_res = google_geocode(geocode_location)\n",
    "    df['lat'][i] = float(geo_res[0]['geometry']['location']['lat'])\n",
    "    df['lon'][i] = float(geo_res[0]['geometry']['location']['lng'])"
   ]
  },
  {
   "cell_type": "markdown",
   "metadata": {},
   "source": [
    "### US Census Geocoder (Geographies)\n",
    "\n",
    "Get census block ID's from US Census API."
   ]
  },
  {
   "cell_type": "code",
   "execution_count": null,
   "metadata": {},
   "outputs": [],
   "source": [
    "def get_geography(x_coordinate, y_coordinate):\n",
    "\n",
    "    # api-endpoint\n",
    "    URL = \"https://geocoding.geo.census.gov/geocoder/geographies/coordinates?benchmark=2020&format=json&vintage=Census2020_Census2020\"\n",
    "\n",
    "    # defining a params dict for the parameters to be sent to the API\n",
    "    PARAMS = {'x': x_coordinate,\n",
    "              'y': y_coordinate,\n",
    "             'key': '< ADD YOU API KEY >'}\n",
    "  \n",
    "    # sending get request and saving the response as response object\n",
    "    geography_r = requests.get(url = URL, params = PARAMS)\n",
    "\n",
    "    geography_data = geography_r.json()\n",
    "    \n",
    "    return geography_data"
   ]
  },
  {
   "cell_type": "code",
   "execution_count": null,
   "metadata": {},
   "outputs": [],
   "source": [
    "for i in range(0, len(df)): \n",
    "    x_coordinate = df['lon'][i]\n",
    "    y_coordinate = df['lat'][i]\n",
    "    geo = get_geography(x_coordinate, y_coordinate)\n",
    "    df['Tract'][i] = geo['result']['geographies']['Census Tracts'][0]['TRACT']\n",
    "    df['County'][i] = geo['result']['geographies']['Counties'][0]['BASENAME']"
   ]
  },
  {
   "cell_type": "markdown",
   "metadata": {},
   "source": [
    "### US Census API (Total Population / Median Income)\n",
    "\n",
    "Get Total Population and Median Household Income statistics for each census block."
   ]
  },
  {
   "cell_type": "code",
   "execution_count": null,
   "metadata": {},
   "outputs": [],
   "source": [
    "def population_income(tract, county):\n",
    "\n",
    "    # api-endpoint\n",
    "    URL = \"https://api.census.gov/data/2020/acs/acs5\"\n",
    "\n",
    "    # defining a params dict for the parameters to be sent to the API\n",
    "    PARAMS = {'key': '< ADD YOU API KEY >',\n",
    "              'in': county,\n",
    "              'get': 'B19013_001E,B01003_001E',\n",
    "              'for': tract\n",
    "             }\n",
    "    \n",
    "    # sending get request and saving the response as response object\n",
    "    r = requests.get(url = URL, params = PARAMS)\n",
    "\n",
    "    population_income_data = r.json()\n",
    "    \n",
    "    return population_income_data"
   ]
  },
  {
   "cell_type": "code",
   "execution_count": null,
   "metadata": {},
   "outputs": [],
   "source": [
    "df['Total Population'] = 0\n",
    "df['Median Income'] = 0\n",
    "\n",
    "for i in range(0, len(df)):\n",
    "    if df['County'][i] == 'Santa Clara':\n",
    "        county = 'state:06%20county:085'\n",
    "    elif df['County'][i] == 'San Francisco':\n",
    "        county = 'state:06%20county:075'\n",
    "    elif df['County'][i] == 'San Mateo':\n",
    "        county = 'state:06%20county:081'\n",
    "        \n",
    "    tract = \"tract:{}\".format(df['Tract'][i])\n",
    "    \n",
    "    pop_inc = population_income(tract, county)\n",
    "       \n",
    "    df['Total Population'][i] = pop_inc[1][1]\n",
    "    df['Median Income'][i] = pop_inc[1][0]"
   ]
  },
  {
   "cell_type": "markdown",
   "metadata": {},
   "source": [
    "### Walk Score API\n",
    "\n",
    "Get the walkability and bikeability score for each property location."
   ]
  },
  {
   "cell_type": "code",
   "execution_count": null,
   "metadata": {},
   "outputs": [],
   "source": [
    "df['walk_score'], df['bike_score'], df['transit_score'] = 0, 0, 0\n",
    "\n",
    "def walk_score(walkscore_parameters):\n",
    "    walkscore_url = \"https://api.walkscore.com/score\"\n",
    "    walkscore_r = requests.get(url = walkscore_url, params = walkscore_parameters)\n",
    "    walkscore_data = walkscore_r.json()\n",
    "    return walkscore_data"
   ]
  },
  {
   "cell_type": "code",
   "execution_count": null,
   "metadata": {},
   "outputs": [],
   "source": [
    "for i in range(0, len(df)):\n",
    "    walkscore_parameters = {'address': \"{},{},{}\".format(df['Street Address'][i], df['Postal City'][i], df['State'][i]),\n",
    "                            'lat': df['lat'][i],\n",
    "                            'lon': df['lon'][i],\n",
    "                            'wsapikey' : '< ADD YOU API KEY >',\n",
    "                            'transit': '1',\n",
    "                            'bike': '1',\n",
    "                            'format': 'json',\n",
    "                            \n",
    "                           }\n",
    "    walk_score_data = walk_score(walkscore_parameters)\n",
    "    df['walk_score'][i] = walk_score_data['walkscore']\n",
    "    df['bike_score'][i] = walk_score_data['bike']['score']"
   ]
  },
  {
   "cell_type": "markdown",
   "metadata": {},
   "source": [
    "### Get Comps\n",
    "\n",
    "Get comparable properties sales prices: 10 most recent house sales with the same number of bedrooms, similar count of bathrooms, located in the same areas with the subject property.\n",
    "\n",
    "Calculate the average $/ SF price based on the 10 comps."
   ]
  },
  {
   "cell_type": "code",
   "execution_count": null,
   "metadata": {},
   "outputs": [],
   "source": [
    "def getComps(latitude, longitude, bedrooms, baths):\n",
    "\n",
    "    url = \"https://realty-in-us.p.rapidapi.com/properties/v2/list-sold\"\n",
    "\n",
    "    querystring = {\n",
    "        \"offset\":\"0\",\n",
    "        \"limit\":\"10\",\n",
    "        \"sort\":\"sold_date\",\n",
    "        \"prop_type\":\"single_family\",\n",
    "        \"baths_min\": baths,\n",
    "        \"beds_min\": bedrooms - 1,\n",
    "        \"lat_max\": latitude + 0.006,\n",
    "        \"lat_min\": latitude - 0.006,\n",
    "        \"lng_max\": longitude + 0.006,\n",
    "        \"lng_min\": longitude - 0.006}\n",
    "\n",
    "    headers = {\n",
    "        \"X-RapidAPI-Key\": \"< ADD YOU API KEY >\",\n",
    "        \"X-RapidAPI-Host\": \"realty-in-us.p.rapidapi.com\"\n",
    "    }\n",
    "\n",
    "    response = requests.request(\"GET\", url, headers=headers, params=querystring)\n",
    "\n",
    "    data = response.json()\n",
    "\n",
    "    sum = 0\n",
    "    for i in range(0, len(data['properties'])):\n",
    "        sum += data['properties'][i]['price'] / data['properties'][i]['building_size']['size']\n",
    "    average_price = sum / len(data['properties'])\n",
    "    return average_price"
   ]
  },
  {
   "cell_type": "code",
   "execution_count": null,
   "metadata": {},
   "outputs": [],
   "source": [
    "for i in range(833, len(df)):\n",
    "    latitude = df['lat'][i]\n",
    "    longitude = df['lon'][i]\n",
    "    bedrooms = df['Beds Total'][i]\n",
    "    baths = df['Fbath'][i]\n",
    "    \n",
    "    comps_avg = getComps(latitude, longitude, bedrooms, baths)\n",
    "    \n",
    "    df['comps_avg'][i] = comps_avg\n",
    "    print(i, df['comps_avg'][i])"
   ]
  },
  {
   "cell_type": "markdown",
   "metadata": {},
   "source": [
    "### Get School Ratings\n",
    "\n",
    "Get the average school rating (K-12) for each property location."
   ]
  },
  {
   "cell_type": "code",
   "execution_count": null,
   "metadata": {},
   "outputs": [],
   "source": [
    "def getSchoolRating(latitude, longitude):\n",
    "    url = \"https://realty-in-us.p.rapidapi.com/schools/list-nearby\"\n",
    "\n",
    "    querystring = {\n",
    "        \"lon\":longitude,\n",
    "        \"lat\":latitude\n",
    "    }\n",
    "\n",
    "    headers = {\n",
    "        \"X-RapidAPI-Key\": \"4762e71129mshb01aaab56476586p15ff98jsn4667ebc334be\",\n",
    "        \"X-RapidAPI-Host\": \"realty-in-us.p.rapidapi.com\"\n",
    "    }\n",
    "\n",
    "    response = requests.request(\"GET\", url, headers=headers, params=querystring)\n",
    "\n",
    "    data = response.json()\n",
    "\n",
    "    data['schools'][0]['ratings']\n",
    "\n",
    "    list = []\n",
    "    for i in range(0, len(data['schools'])):\n",
    "        if (data['schools'][i]['ratings']['great_schools_rating']) is not None:\n",
    "            list.append(int(data['schools'][i]['ratings']['great_schools_rating']))\n",
    "    average_rating = mean(list)    \n",
    "    return average_rating"
   ]
  },
  {
   "cell_type": "code",
   "execution_count": null,
   "metadata": {},
   "outputs": [],
   "source": [
    "for i in range(0, len(df)):\n",
    "    latitude = df['lat'][i]\n",
    "    longitude = df['lon'][i]\n",
    "    \n",
    "    rating = getSchoolRating(latitude, longitude)\n",
    "    \n",
    "    df['school_rating'][i] = rating\n",
    "    \n",
    "    print(i, df['school_rating'][i])"
   ]
  },
  {
   "cell_type": "markdown",
   "metadata": {},
   "source": [
    "### Data Cleaning and Feature Selection"
   ]
  },
  {
   "cell_type": "code",
   "execution_count": 13,
   "metadata": {},
   "outputs": [],
   "source": [
    "df = pd.read_csv('mls_dataset.csv')"
   ]
  },
  {
   "cell_type": "code",
   "execution_count": 14,
   "metadata": {},
   "outputs": [],
   "source": [
    "# Drop non-numerical variable\n",
    "df = df.drop(['Street Address', 'Postal City', 'County', 'State', 'Lat', 'Lon', 'Tract'], axis=1)"
   ]
  },
  {
   "cell_type": "code",
   "execution_count": 15,
   "metadata": {},
   "outputs": [
    {
     "data": {
      "text/html": [
       "<div>\n",
       "<style scoped>\n",
       "    .dataframe tbody tr th:only-of-type {\n",
       "        vertical-align: middle;\n",
       "    }\n",
       "\n",
       "    .dataframe tbody tr th {\n",
       "        vertical-align: top;\n",
       "    }\n",
       "\n",
       "    .dataframe thead th {\n",
       "        text-align: right;\n",
       "    }\n",
       "</style>\n",
       "<table border=\"1\" class=\"dataframe\">\n",
       "  <thead>\n",
       "    <tr style=\"text-align: right;\">\n",
       "      <th></th>\n",
       "      <th>Price</th>\n",
       "      <th>Beds Total</th>\n",
       "      <th>Sq Ft Total</th>\n",
       "      <th>Full Bath</th>\n",
       "      <th>Half Bath</th>\n",
       "      <th>Lot Size</th>\n",
       "      <th>Age</th>\n",
       "      <th>Total Population</th>\n",
       "      <th>Median Income</th>\n",
       "      <th>Walk Score</th>\n",
       "      <th>Bike Score</th>\n",
       "      <th>Comps</th>\n",
       "      <th>School Rating</th>\n",
       "    </tr>\n",
       "  </thead>\n",
       "  <tbody>\n",
       "    <tr>\n",
       "      <th>0</th>\n",
       "      <td>1100000</td>\n",
       "      <td>5</td>\n",
       "      <td>2590</td>\n",
       "      <td>3</td>\n",
       "      <td>0</td>\n",
       "      <td>7094</td>\n",
       "      <td>42</td>\n",
       "      <td>3650</td>\n",
       "      <td>75915</td>\n",
       "      <td>24</td>\n",
       "      <td>24</td>\n",
       "      <td>360</td>\n",
       "      <td>5.2</td>\n",
       "    </tr>\n",
       "    <tr>\n",
       "      <th>1</th>\n",
       "      <td>1720000</td>\n",
       "      <td>5</td>\n",
       "      <td>4510</td>\n",
       "      <td>4</td>\n",
       "      <td>1</td>\n",
       "      <td>24430</td>\n",
       "      <td>45</td>\n",
       "      <td>5102</td>\n",
       "      <td>139157</td>\n",
       "      <td>11</td>\n",
       "      <td>3</td>\n",
       "      <td>381</td>\n",
       "      <td>5.6</td>\n",
       "    </tr>\n",
       "    <tr>\n",
       "      <th>2</th>\n",
       "      <td>1750000</td>\n",
       "      <td>6</td>\n",
       "      <td>4357</td>\n",
       "      <td>4</td>\n",
       "      <td>0</td>\n",
       "      <td>48787</td>\n",
       "      <td>40</td>\n",
       "      <td>3837</td>\n",
       "      <td>141538</td>\n",
       "      <td>0</td>\n",
       "      <td>0</td>\n",
       "      <td>402</td>\n",
       "      <td>3.8</td>\n",
       "    </tr>\n",
       "    <tr>\n",
       "      <th>3</th>\n",
       "      <td>1250000</td>\n",
       "      <td>4</td>\n",
       "      <td>2489</td>\n",
       "      <td>3</td>\n",
       "      <td>0</td>\n",
       "      <td>4355</td>\n",
       "      <td>5</td>\n",
       "      <td>7176</td>\n",
       "      <td>147900</td>\n",
       "      <td>4</td>\n",
       "      <td>48</td>\n",
       "      <td>440</td>\n",
       "      <td>5.2</td>\n",
       "    </tr>\n",
       "    <tr>\n",
       "      <th>4</th>\n",
       "      <td>970000</td>\n",
       "      <td>3</td>\n",
       "      <td>2028</td>\n",
       "      <td>2</td>\n",
       "      <td>1</td>\n",
       "      <td>4764</td>\n",
       "      <td>7</td>\n",
       "      <td>7176</td>\n",
       "      <td>147900</td>\n",
       "      <td>17</td>\n",
       "      <td>51</td>\n",
       "      <td>443</td>\n",
       "      <td>6.0</td>\n",
       "    </tr>\n",
       "    <tr>\n",
       "      <th>...</th>\n",
       "      <td>...</td>\n",
       "      <td>...</td>\n",
       "      <td>...</td>\n",
       "      <td>...</td>\n",
       "      <td>...</td>\n",
       "      <td>...</td>\n",
       "      <td>...</td>\n",
       "      <td>...</td>\n",
       "      <td>...</td>\n",
       "      <td>...</td>\n",
       "      <td>...</td>\n",
       "      <td>...</td>\n",
       "      <td>...</td>\n",
       "    </tr>\n",
       "    <tr>\n",
       "      <th>864</th>\n",
       "      <td>4195000</td>\n",
       "      <td>2</td>\n",
       "      <td>1031</td>\n",
       "      <td>2</td>\n",
       "      <td>0</td>\n",
       "      <td>13012</td>\n",
       "      <td>74</td>\n",
       "      <td>4699</td>\n",
       "      <td>250001</td>\n",
       "      <td>44</td>\n",
       "      <td>87</td>\n",
       "      <td>2094</td>\n",
       "      <td>8.6</td>\n",
       "    </tr>\n",
       "    <tr>\n",
       "      <th>865</th>\n",
       "      <td>2710000</td>\n",
       "      <td>3</td>\n",
       "      <td>1240</td>\n",
       "      <td>2</td>\n",
       "      <td>0</td>\n",
       "      <td>7072</td>\n",
       "      <td>66</td>\n",
       "      <td>5339</td>\n",
       "      <td>142692</td>\n",
       "      <td>73</td>\n",
       "      <td>78</td>\n",
       "      <td>2102</td>\n",
       "      <td>8.7</td>\n",
       "    </tr>\n",
       "    <tr>\n",
       "      <th>866</th>\n",
       "      <td>19000000</td>\n",
       "      <td>5</td>\n",
       "      <td>8958</td>\n",
       "      <td>6</td>\n",
       "      <td>2</td>\n",
       "      <td>50965</td>\n",
       "      <td>2</td>\n",
       "      <td>4585</td>\n",
       "      <td>250001</td>\n",
       "      <td>1</td>\n",
       "      <td>14</td>\n",
       "      <td>2121</td>\n",
       "      <td>8.4</td>\n",
       "    </tr>\n",
       "    <tr>\n",
       "      <th>867</th>\n",
       "      <td>4610000</td>\n",
       "      <td>3</td>\n",
       "      <td>1885</td>\n",
       "      <td>2</td>\n",
       "      <td>0</td>\n",
       "      <td>5000</td>\n",
       "      <td>84</td>\n",
       "      <td>3496</td>\n",
       "      <td>250001</td>\n",
       "      <td>70</td>\n",
       "      <td>98</td>\n",
       "      <td>2123</td>\n",
       "      <td>8.0</td>\n",
       "    </tr>\n",
       "    <tr>\n",
       "      <th>868</th>\n",
       "      <td>4000000</td>\n",
       "      <td>2</td>\n",
       "      <td>1060</td>\n",
       "      <td>1</td>\n",
       "      <td>0</td>\n",
       "      <td>17475</td>\n",
       "      <td>67</td>\n",
       "      <td>4438</td>\n",
       "      <td>250001</td>\n",
       "      <td>32</td>\n",
       "      <td>76</td>\n",
       "      <td>2273</td>\n",
       "      <td>8.0</td>\n",
       "    </tr>\n",
       "  </tbody>\n",
       "</table>\n",
       "<p>869 rows × 13 columns</p>\n",
       "</div>"
      ],
      "text/plain": [
       "        Price  Beds Total  Sq Ft Total  Full Bath  Half Bath  Lot Size  Age  \\\n",
       "0     1100000           5         2590          3          0      7094   42   \n",
       "1     1720000           5         4510          4          1     24430   45   \n",
       "2     1750000           6         4357          4          0     48787   40   \n",
       "3     1250000           4         2489          3          0      4355    5   \n",
       "4      970000           3         2028          2          1      4764    7   \n",
       "..        ...         ...          ...        ...        ...       ...  ...   \n",
       "864   4195000           2         1031          2          0     13012   74   \n",
       "865   2710000           3         1240          2          0      7072   66   \n",
       "866  19000000           5         8958          6          2     50965    2   \n",
       "867   4610000           3         1885          2          0      5000   84   \n",
       "868   4000000           2         1060          1          0     17475   67   \n",
       "\n",
       "     Total Population  Median Income  Walk Score  Bike Score  Comps  \\\n",
       "0                3650          75915          24          24    360   \n",
       "1                5102         139157          11           3    381   \n",
       "2                3837         141538           0           0    402   \n",
       "3                7176         147900           4          48    440   \n",
       "4                7176         147900          17          51    443   \n",
       "..                ...            ...         ...         ...    ...   \n",
       "864              4699         250001          44          87   2094   \n",
       "865              5339         142692          73          78   2102   \n",
       "866              4585         250001           1          14   2121   \n",
       "867              3496         250001          70          98   2123   \n",
       "868              4438         250001          32          76   2273   \n",
       "\n",
       "     School Rating  \n",
       "0              5.2  \n",
       "1              5.6  \n",
       "2              3.8  \n",
       "3              5.2  \n",
       "4              6.0  \n",
       "..             ...  \n",
       "864            8.6  \n",
       "865            8.7  \n",
       "866            8.4  \n",
       "867            8.0  \n",
       "868            8.0  \n",
       "\n",
       "[869 rows x 13 columns]"
      ]
     },
     "execution_count": 15,
     "metadata": {},
     "output_type": "execute_result"
    }
   ],
   "source": [
    "df"
   ]
  },
  {
   "cell_type": "code",
   "execution_count": null,
   "metadata": {},
   "outputs": [],
   "source": [
    "# Create a pairplot to check relationships between various variable pairs\n",
    "sns.pairplot(df)"
   ]
  },
  {
   "cell_type": "code",
   "execution_count": null,
   "metadata": {},
   "outputs": [],
   "source": [
    "# Create histograms to check distribution of values in each column\n",
    "df.hist()"
   ]
  },
  {
   "cell_type": "code",
   "execution_count": null,
   "metadata": {},
   "outputs": [],
   "source": [
    "# Create correlation matrix to check Pearson's correlation coefficients for each pair of variables\n",
    "fig, ax = plt.subplots(figsize = (18,10))\n",
    "sns.heatmap(df.corr(), annot = True, annot_kws={'size':12})"
   ]
  },
  {
   "cell_type": "code",
   "execution_count": null,
   "metadata": {},
   "outputs": [],
   "source": [
    "# Select columns with higher correlation coefficients\n",
    "df = df[['Sq Ft Total', 'Comps', 'Full Bath', 'Median Income', 'Price', 'School Rating']]"
   ]
  },
  {
   "cell_type": "code",
   "execution_count": null,
   "metadata": {},
   "outputs": [],
   "source": [
    "# Check skewness coefficients for each variable\n",
    "df.agg(['skew']).T"
   ]
  },
  {
   "cell_type": "code",
   "execution_count": null,
   "metadata": {},
   "outputs": [],
   "source": [
    "# Use log transformation to reduce skewness for select features\n",
    "vars = ['Sq Ft Total', 'Comps', 'Full Bath', 'Median Income', 'Price']\n",
    "for i in vars:\n",
    "    df[i] = np.log(df[i])"
   ]
  },
  {
   "cell_type": "code",
   "execution_count": null,
   "metadata": {},
   "outputs": [],
   "source": [
    "# Create a boxplot chart to see destribution of values in the 'Price' columns (there are obvious outliers above and below whiskers)\n",
    "df.boxplot(column=['Price'])"
   ]
  },
  {
   "cell_type": "code",
   "execution_count": null,
   "metadata": {},
   "outputs": [],
   "source": [
    "# Get boxplot stats\n",
    "stats = boxplot_stats(df['Price'].values)\n",
    "\n",
    "# Remove records with 'Price per Area' values above and beyond upper and lower whiskers respectively.\n",
    "df.drop(df[(df['Price'] > stats[0]['whishi']) | (df['Price'] < stats[0]['whislo'])].index, inplace = True)"
   ]
  },
  {
   "cell_type": "code",
   "execution_count": null,
   "metadata": {},
   "outputs": [],
   "source": [
    "df.reset_index(drop=True)"
   ]
  },
  {
   "cell_type": "code",
   "execution_count": null,
   "metadata": {
    "scrolled": false
   },
   "outputs": [],
   "source": [
    "# Use stats model to fit the regression model\n",
    "\n",
    "X = df[['Sq Ft Total', 'Comps', 'Median Income', 'School Rating', 'Full Bath']]\n",
    "y = df['Price']\n",
    " \n",
    "# with sklearn\n",
    "regr = linear_model.LinearRegression()\n",
    "regr.fit(X, y)\n",
    "\n",
    "# with statsmodels\n",
    "X = sm.add_constant(X) # adding a constant\n",
    " \n",
    "model = sm.OLS(y, X).fit()\n",
    "predictions = model.predict(X) \n",
    " \n",
    "print_model = model.summary()\n",
    "print(print_model)\n"
   ]
  },
  {
   "cell_type": "code",
   "execution_count": null,
   "metadata": {},
   "outputs": [],
   "source": [
    "# Create train and test datasets, train the model, and predict values for properties in the test dataset\n",
    "x_train,x_test,y_train,y_test=train_test_split(X,y,test_size=0.2,random_state=0)\n",
    "\n",
    "model = LinearRegression()\n",
    "model.fit(x_train, y_train)\n",
    "\n",
    "y_predict = model.predict(x_test)\n",
    "\n",
    "y_predict = np.exp(y_predict)\n",
    "\n",
    "y_test = np.exp(y_test)"
   ]
  },
  {
   "cell_type": "code",
   "execution_count": null,
   "metadata": {},
   "outputs": [],
   "source": [
    "# Calculate the absolute errors\n",
    "errors = abs(y_predict - y_test)\n",
    "\n",
    "# Calculate mean absolute percentage error (MAPE)\n",
    "mape = 100 * (errors / y_test)\n",
    "\n",
    "# Calculate and display accuracy\n",
    "accuracy = 100 - np.mean(mape)\n",
    "\n",
    "# Print out the mean absolute error (mae) and mean absolute percentage error\n",
    "print('Mean Absolute Error: $',round(np.mean(errors)))\n",
    "print('MAPE: ', round(np.mean(mape), 3), '%.',)\n",
    "print('Accuracy:', round(accuracy, 3), '%.', '(1 - MAPE)')\n",
    "\n",
    "\n"
   ]
  },
  {
   "cell_type": "code",
   "execution_count": null,
   "metadata": {},
   "outputs": [],
   "source": []
  }
 ],
 "metadata": {
  "kernelspec": {
   "display_name": "Python 3",
   "language": "python",
   "name": "python3"
  },
  "language_info": {
   "codemirror_mode": {
    "name": "ipython",
    "version": 3
   },
   "file_extension": ".py",
   "mimetype": "text/x-python",
   "name": "python",
   "nbconvert_exporter": "python",
   "pygments_lexer": "ipython3",
   "version": "3.8.5"
  }
 },
 "nbformat": 4,
 "nbformat_minor": 4
}
